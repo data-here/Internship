{
 "cells": [
  {
   "cell_type": "markdown",
   "id": "3c914967",
   "metadata": {},
   "source": [
    "# Q1 TO Q10\n"
   ]
  },
  {
   "cell_type": "code",
   "execution_count": null,
   "id": "32913843",
   "metadata": {},
   "outputs": [],
   "source": [
    "\n",
    "# 1.  C) %\n",
    "\n",
    "\n",
    "# 2.  B) 0\n",
    "\n",
    "\n",
    "# 3.  C) 24\n",
    "\n",
    "\n",
    "# 4.  A) 2\n",
    "\n",
    "\n",
    "# 5.  D) 6\n",
    "\n",
    "\n",
    "#6.  C) The finally block will be executed no matter if the try block raises an error or not\n",
    "\n",
    "\n",
    "# 7.  A) It is used to raise an exception\n",
    "\n",
    "\n",
    "# 8.  C) In defining a generator\n",
    "\n",
    "\n",
    "# 9.  A) _abc\n",
    "\n",
    "\n",
    "#10.  B) raise"
   ]
  },
  {
   "cell_type": "markdown",
   "id": "16bd93fe",
   "metadata": {},
   "source": [
    "# Q11 Factorial Number "
   ]
  },
  {
   "cell_type": "code",
   "execution_count": null,
   "id": "8c4409b3",
   "metadata": {},
   "outputs": [],
   "source": [
    "num = int(input('enter your number: '))\n",
    "\n",
    "fact = 1\n",
    "\n",
    "if num < 0:\n",
    "    print('fact of 0 does not exists')\n",
    "    \n",
    "if num ==0:\n",
    "    print('fact of 0 is ', 1)\n",
    "\n",
    "if num >0:\n",
    "    for i in range (1 , num+1):\n",
    "        fact *=i\n",
    "        print('the giveing number is this', fact) "
   ]
  },
  {
   "cell_type": "markdown",
   "id": "e4c9fb33",
   "metadata": {},
   "source": [
    "# Q12 Prime and Composite"
   ]
  },
  {
   "cell_type": "code",
   "execution_count": null,
   "id": "fb6a22bf",
   "metadata": {},
   "outputs": [],
   "source": [
    "num = int(input('Enter your number: '))\n",
    "\n",
    "count = 0\n",
    "i = 1\n",
    "\n",
    "while i <= num:\n",
    "    if num % i == 0:\n",
    "        count += 1\n",
    "    i += 1\n",
    "\n",
    "if count == 2:\n",
    "    print('This is a prime number.')\n",
    "elif count > 2:\n",
    "    print('This is a composite number.')\n",
    "else:\n",
    "    print('The number is neither prime nor composite.')"
   ]
  },
  {
   "cell_type": "markdown",
   "id": "0c8d8ae4",
   "metadata": {},
   "source": [
    "# Q13 Check String or  Palindrome "
   ]
  },
  {
   "cell_type": "code",
   "execution_count": null,
   "id": "d0d0d2bc",
   "metadata": {},
   "outputs": [],
   "source": [
    "s = input('enter a string: ')\n",
    "\n",
    "revstr = (s[::-1])\n",
    "\n",
    "if revstr == s:\n",
    "    print('It is a string')\n",
    "    \n",
    "else :\n",
    "    print('it is a palindrome')"
   ]
  },
  {
   "cell_type": "markdown",
   "id": "53bc6a92",
   "metadata": {},
   "source": [
    "# Q14 Find third side of right-angled triangle from two given sides"
   ]
  },
  {
   "cell_type": "code",
   "execution_count": null,
   "id": "68d179be",
   "metadata": {},
   "outputs": [],
   "source": [
    "import math\n",
    "\n",
    "a = float(input(\"Enter the first side: \"))\n",
    "b = float(input(\"Enter the second side: \"))\n",
    "is_hypotenuse = input(\"Is the second side the hypotenuse? (yes/no): \").strip().lower() == 'yes'\n",
    "\n",
    "if is_hypotenuse:\n",
    "    third_side = math.sqrt(a**2 + b**2)\n",
    "else:\n",
    "    third_side = math.sqrt(abs(a**2 - b**2))\n",
    "\n",
    "print(f\"The third side of the right-angled triangle is: {third_side:.2f}\")"
   ]
  },
  {
   "cell_type": "markdown",
   "id": "a58de7c7",
   "metadata": {},
   "source": [
    "# Q15  Check frequency of each of the characters present in a given string"
   ]
  },
  {
   "cell_type": "code",
   "execution_count": null,
   "id": "29d8f568",
   "metadata": {},
   "outputs": [],
   "source": [
    "str1 = input('Enter your string: ')\n",
    "d1 = {}\n",
    "\n",
    "for i in str1:\n",
    "    if i in d1:\n",
    "        d1[i] = d1[i] +1\n",
    "    else :\n",
    "        d1[i] = 1\n",
    "print(d1)"
   ]
  }
 ],
 "metadata": {
  "kernelspec": {
   "display_name": "Python 3 (ipykernel)",
   "language": "python",
   "name": "python3"
  },
  "language_info": {
   "codemirror_mode": {
    "name": "ipython",
    "version": 3
   },
   "file_extension": ".py",
   "mimetype": "text/x-python",
   "name": "python",
   "nbconvert_exporter": "python",
   "pygments_lexer": "ipython3",
   "version": "3.11.5"
  }
 },
 "nbformat": 4,
 "nbformat_minor": 5
}
