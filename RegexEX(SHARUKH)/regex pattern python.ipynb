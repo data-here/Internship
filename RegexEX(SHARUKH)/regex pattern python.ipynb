{
 "cells": [
  {
   "cell_type": "markdown",
   "id": "cb5571a9",
   "metadata": {},
   "source": [
    "# Question 1\n"
   ]
  },
  {
   "cell_type": "code",
   "execution_count": 409,
   "id": "4017aa24",
   "metadata": {},
   "outputs": [],
   "source": [
    "import re"
   ]
  },
  {
   "cell_type": "code",
   "execution_count": 410,
   "id": "64631182",
   "metadata": {},
   "outputs": [
    {
     "name": "stdout",
     "output_type": "stream",
     "text": [
      "Python:Exercises::PHP:exercises\n"
     ]
    }
   ],
   "source": [
    "test_strings = 'Python Exercises, PHP exercises'\n",
    "replace = re.sub('[\\s+,]',':',test_strings)\n",
    "print(replace) "
   ]
  },
  {
   "cell_type": "markdown",
   "id": "915a5ea7",
   "metadata": {},
   "source": [
    "# Question 2"
   ]
  },
  {
   "cell_type": "code",
   "execution_count": 411,
   "id": "d875ab84",
   "metadata": {},
   "outputs": [
    {
     "name": "stdout",
     "output_type": "stream",
     "text": [
      "                  SUMMARY\n",
      "0           hello  world \n",
      "1                    test\n",
      "2     four  five   six   \n"
     ]
    }
   ],
   "source": [
    "import pandas as pd\n",
    "dic = {'SUMMARY' : ['hello, world!', 'XXXXX test', '123four, five:; six...']}\n",
    "df = pd.DataFrame(dic)\n",
    " \n",
    "df['SUMMARY'] = df['SUMMARY'].apply(lambda text: re.sub('[\\d\\s+;..:,!X]',' ',text))\n",
    "#remove2 = re.sub('[\\s+;..:,!X]',' ',df)\n",
    "print(df)\n",
    "\n",
    "        \n"
   ]
  },
  {
   "cell_type": "markdown",
   "id": "cf697ebf",
   "metadata": {},
   "source": [
    "# Question 3\n"
   ]
  },
  {
   "cell_type": "code",
   "execution_count": 412,
   "id": "06041d5c",
   "metadata": {},
   "outputs": [
    {
     "name": "stdout",
     "output_type": "stream",
     "text": [
      "['Create', 'function', 'python', 'find', 'words', 'that', 'least']\n"
     ]
    }
   ],
   "source": [
    "test_strings= 'Create a function in python to find all words that are at least '\n",
    "regerx_pattern = r'\\w{4,}'\n",
    "valid = re.compile(regerx_pattern)\n",
    "strg = valid.findall(test_strings)\n",
    "print(strg)"
   ]
  },
  {
   "cell_type": "markdown",
   "id": "c9aa0edf",
   "metadata": {},
   "source": [
    "# Question 4"
   ]
  },
  {
   "cell_type": "code",
   "execution_count": 413,
   "id": "191b3bea",
   "metadata": {},
   "outputs": [
    {
     "name": "stdout",
     "output_type": "stream",
     "text": [
      "['Creat', 'funct', 'ion', 'pytho', 'find', 'all']\n"
     ]
    }
   ],
   "source": [
    "test_strings = ' Create a function in python to find all '\n",
    "regerx_pattern = r'\\w{3,5}'\n",
    "valid = re.compile(regerx_pattern)\n",
    "strg = valid.findall(test_strings)\n",
    "print(strg)"
   ]
  },
  {
   "cell_type": "markdown",
   "id": "66df9dbe",
   "metadata": {},
   "source": [
    "# Question 5\n"
   ]
  },
  {
   "cell_type": "code",
   "execution_count": 414,
   "id": "9624862e",
   "metadata": {},
   "outputs": [
    {
     "name": "stdout",
     "output_type": "stream",
     "text": [
      "example.com\n",
      "hr@fliprobo.com\n",
      "github.com\n",
      "Hello Data Science World\n",
      "Data Scientist\n"
     ]
    }
   ],
   "source": [
    "test_strings= [\"example (.com)\", \"hr@fliprobo (.com)\", \"github (.com)\", \"Hello (Data Science World)\", \"Data (Scientist)\"]\n",
    "remove = re.compile(r'\\(|\\s*\\((?=\\.)|\\)')\n",
    "for rem in test_strings:\n",
    "    \n",
    "    match = remove.sub('',rem).strip()\n",
    "    print(match)"
   ]
  },
  {
   "cell_type": "markdown",
   "id": "ea432f42",
   "metadata": {},
   "source": [
    "# Question 6\n"
   ]
  },
  {
   "cell_type": "code",
   "execution_count": 417,
   "id": "09278161",
   "metadata": {},
   "outputs": [
    {
     "name": "stdout",
     "output_type": "stream",
     "text": [
      "[\"example\", \"hr@fliprobo\", \"github\", \"Hello\", \"Data\"]\n"
     ]
    }
   ],
   "source": [
    "with open('C:\\\\Users\\\\hp\\\\Desktop\\\\InternshipProject\\\\R.E.txt','r') as file:\n",
    "    strng = file.read()\n",
    "    splt = re.sub(r'\\s*\\(.*?\\)\\s*','',strng)\n",
    "    print(splt)"
   ]
  },
  {
   "cell_type": "markdown",
   "id": "1ee7aeb0",
   "metadata": {},
   "source": [
    "# Question 7\n",
    "\n"
   ]
  },
  {
   "cell_type": "code",
   "execution_count": 418,
   "id": "302ce6ba",
   "metadata": {},
   "outputs": [
    {
     "name": "stdout",
     "output_type": "stream",
     "text": [
      "['Importance', 'Of', 'Regular', 'Expressions', 'In', 'Python']\n"
     ]
    }
   ],
   "source": [
    "test_strings ='ImportanceOfRegularExpressionsInPython'\n",
    "split_strng = r'[A-Z][a-z]*'\n",
    "splt = re.findall(split_strng,test_strings)\n",
    "print(splt)\n",
    "\n"
   ]
  },
  {
   "cell_type": "markdown",
   "id": "5c3529e8",
   "metadata": {},
   "source": [
    "# Question 8"
   ]
  },
  {
   "cell_type": "code",
   "execution_count": 419,
   "id": "806b2177",
   "metadata": {},
   "outputs": [
    {
     "name": "stdout",
     "output_type": "stream",
     "text": [
      "RegularExpression 1 IsAn 2 ImportantTopic 3 InPython\n"
     ]
    }
   ],
   "source": [
    "test_strings = 'RegularExpression1IsAn2ImportantTopic3InPython'\n",
    "\n",
    "space = re.sub(r'(?=[0-9])|(?<=[0-9])',' ',test_strings)\n",
    "print(space)"
   ]
  },
  {
   "cell_type": "markdown",
   "id": "9b9f0a2a",
   "metadata": {},
   "source": [
    "# Question 9\n",
    "\n"
   ]
  },
  {
   "cell_type": "code",
   "execution_count": 420,
   "id": "c916628a",
   "metadata": {},
   "outputs": [
    {
     "name": "stdout",
     "output_type": "stream",
     "text": [
      " Regular Expression 1 Is An 2 Important Topic 3 In Python\n"
     ]
    }
   ],
   "source": [
    "test_strings ='RegularExpression1IsAn2ImportantTopic3InPython'\n",
    "space = re.sub(r'(?=[A-Z0-9])|(?<=[0-9])',' ',test_strings)\n",
    "print(space)"
   ]
  },
  {
   "cell_type": "markdown",
   "id": "dfcd045c",
   "metadata": {},
   "source": [
    "# Question 10\n",
    "\n"
   ]
  },
  {
   "cell_type": "code",
   "execution_count": 421,
   "id": "5c49e775",
   "metadata": {},
   "outputs": [
    {
     "name": "stdout",
     "output_type": "stream",
     "text": [
      "0      Switze\n",
      "1      Icelan\n",
      "2      Denmar\n",
      "3      Norway\n",
      "4      Canada\n",
      "        ...  \n",
      "153    Rwanda\n",
      "154     Benin\n",
      "155     Syria\n",
      "156    Burund\n",
      "157      Togo\n",
      "Name: first_five_letters, Length: 158, dtype: object\n"
     ]
    }
   ],
   "source": [
    "import pandas as pd\n",
    "df= pd.read_csv('https://raw.githubusercontent.com/dsrscientist/DSData/master/happiness_score_dataset.csv')\n",
    "df['first_five_letters']=df['Country'].str[:6]\n",
    "print(df['first_five_letters'])\n"
   ]
  },
  {
   "cell_type": "markdown",
   "id": "669d4915",
   "metadata": {},
   "source": [
    "# Question 11\n",
    "\n"
   ]
  },
  {
   "cell_type": "code",
   "execution_count": 422,
   "id": "3080a4a3",
   "metadata": {},
   "outputs": [
    {
     "name": "stdout",
     "output_type": "stream",
     "text": [
      "['Hello_World123']\n",
      "[]\n",
      "['Another_Valid123']\n",
      "[]\n",
      "['Under_score_123']\n"
     ]
    }
   ],
   "source": [
    "test_strings = [\"Hello_World123\", \"Invalid_String!\", \"Another_Valid123\", \"NoSpaces:;\", \"Under_score_123\"]\n",
    "\n",
    "for str_find in test_strings:\n",
    "    find = re.findall(r'[a-zA-Z0-9_]+$',str_find)\n",
    "    print(find)"
   ]
  },
  {
   "cell_type": "markdown",
   "id": "b1522191",
   "metadata": {},
   "source": [
    "# Question 12\n",
    "\n"
   ]
  },
  {
   "cell_type": "code",
   "execution_count": 423,
   "id": "247b3910",
   "metadata": {},
   "outputs": [
    {
     "name": "stdout",
     "output_type": "stream",
     "text": [
      "[]\n",
      "['456StartHere']\n",
      "[]\n",
      "[]\n"
     ]
    }
   ],
   "source": [
    "test_strings = [\"123HelloWorld\", \"456StartHere\", \"789EndsHere\", \"123AnotherTest\"]\n",
    "\n",
    "for find1 in test_strings:\n",
    "    find = re.findall(r'^[456]+\\w+',find1)\n",
    "    print(find)\n"
   ]
  },
  {
   "cell_type": "markdown",
   "id": "b121c63c",
   "metadata": {},
   "source": [
    "# Question 13\n",
    "\n"
   ]
  },
  {
   "cell_type": "code",
   "execution_count": 424,
   "id": "5558551b",
   "metadata": {},
   "outputs": [
    {
     "name": "stdout",
     "output_type": "stream",
     "text": [
      "192.168.001.001\n",
      "255.000.255.000\n",
      "127.000.000.001\n",
      "1.002.003.004\n"
     ]
    }
   ],
   "source": [
    "test_ips = [\"192.168.001.001\", \"255.000.255.000\", \"127.000.000.001\", \"001.002.003.004\"]\n",
    "for ip in test_ips:\n",
    "    \n",
    "    find = re.sub(r'^[0-0]+','',ip)\n",
    "    print(find)\n"
   ]
  },
  {
   "cell_type": "markdown",
   "id": "c57ec720",
   "metadata": {},
   "source": [
    "# Question 14\n",
    "\n"
   ]
  },
  {
   "cell_type": "code",
   "execution_count": 425,
   "id": "bb3e82a6",
   "metadata": {},
   "outputs": [
    {
     "name": "stdout",
     "output_type": "stream",
     "text": [
      "<re.Match object; span=(3, 19), match='August 15th 1947'>\n"
     ]
    }
   ],
   "source": [
    "with open(\"C:\\\\Users\\\\hp\\\\Desktop\\\\InternshipProject\\\\sample_text_find.txt\",'r') as file:\n",
    "    strng = file.read()\n",
    "    \n",
    "    match_text = re.search(r'\\b(\\w+\\s)(\\d\\w+\\s)(\\d+)\\b',strng)\n",
    "    print (match_text)\n"
   ]
  },
  {
   "cell_type": "markdown",
   "id": "e8423032",
   "metadata": {},
   "source": [
    "# Question 15"
   ]
  },
  {
   "cell_type": "code",
   "execution_count": 426,
   "id": "8ced789e",
   "metadata": {},
   "outputs": [
    {
     "name": "stdout",
     "output_type": "stream",
     "text": [
      "<re.Match object; span=(16, 19), match='fox'>\n",
      "<re.Match object; span=(40, 43), match='dog'>\n",
      "None\n"
     ]
    }
   ],
   "source": [
    "strng = 'The quick brown fox jumps over the lazy dog.'\n",
    "\n",
    "search_word= ['fox', 'dog', 'horse']\n",
    "\n",
    "for word in search_word:\n",
    "    match = re.search( word , strng)\n",
    "    print(match)"
   ]
  },
  {
   "cell_type": "markdown",
   "id": "b83bc17b",
   "metadata": {},
   "source": [
    "# Question 16"
   ]
  },
  {
   "cell_type": "code",
   "execution_count": 427,
   "id": "b0c3d52c",
   "metadata": {},
   "outputs": [
    {
     "name": "stdout",
     "output_type": "stream",
     "text": [
      "<re.Match object; span=(16, 19), match='fox'>\n"
     ]
    }
   ],
   "source": [
    "text = 'The quick brown fox jumps over the lazy dog.'\n",
    "search_word = ['fox']\n",
    "\n",
    "for word in search_word:\n",
    "    find_word = re.search(word,text)\n",
    "    print(find_word)"
   ]
  },
  {
   "cell_type": "markdown",
   "id": "cc6dad41",
   "metadata": {},
   "source": [
    "# Question 17"
   ]
  },
  {
   "cell_type": "code",
   "execution_count": 428,
   "id": "8e0810a9",
   "metadata": {},
   "outputs": [
    {
     "name": "stdout",
     "output_type": "stream",
     "text": [
      "['exercises', 'exercises', 'exercises']\n"
     ]
    }
   ],
   "source": [
    "strg = 'Python exercises, PHP exercises, C# exercises'\n",
    "patter_word = 'exercises'\n",
    "\n",
    "patten_find = re.findall(patter_word,strg)\n",
    "print(patten_find)"
   ]
  },
  {
   "cell_type": "markdown",
   "id": "489f485b",
   "metadata": {},
   "source": [
    "# Question 18"
   ]
  },
  {
   "cell_type": "code",
   "execution_count": 429,
   "id": "3a6382e5",
   "metadata": {},
   "outputs": [
    {
     "name": "stdout",
     "output_type": "stream",
     "text": [
      "occurence 3\n",
      "position (7, 16)\n",
      "position (22, 31)\n",
      "position (36, 45)\n"
     ]
    }
   ],
   "source": [
    "strg = 'Python exercises, PHP exercises, C# exercises'\n",
    "patter_word = 'exercises'\n",
    "\n",
    "patten_find = re.findall(patter_word,strg)\n",
    "match = re.finditer(patter_word ,strg)\n",
    "print('occurence',len(patten_find))\n",
    "for find in match:\n",
    "    print('position',find.span())"
   ]
  },
  {
   "cell_type": "markdown",
   "id": "0802b245",
   "metadata": {},
   "source": [
    "# Question 19"
   ]
  },
  {
   "cell_type": "code",
   "execution_count": 430,
   "id": "42169e8b",
   "metadata": {},
   "outputs": [
    {
     "name": "stdout",
     "output_type": "stream",
     "text": [
      "Converted date: 1-08-2024\n"
     ]
    }
   ],
   "source": [
    "date_str = \"2024-08-1\"\n",
    "\n",
    "yyyy, mm, dd = date_str.split('-')\n",
    "converted_date = f\"{dd}-{mm}-{yyyy}\"\n",
    "\n",
    "print(\"Converted date:\", converted_date)"
   ]
  },
  {
   "cell_type": "markdown",
   "id": "ce8308ac",
   "metadata": {},
   "source": [
    "# Question 20"
   ]
  },
  {
   "cell_type": "code",
   "execution_count": 431,
   "id": "ceb83c5a",
   "metadata": {},
   "outputs": [
    {
     "name": "stdout",
     "output_type": "stream",
     "text": [
      "['01.12', '145.8', '3.01', '27.25', '0.25']\n"
     ]
    }
   ],
   "source": [
    "strng_text = '01.12 0132.123 2.31875 145.8 3.01 27.25 0.25'\n",
    "pattern_strng = r'\\b\\d+\\.\\d{1,2}\\b'\n",
    "comp_method = re.compile(pattern_strng)\n",
    "find_strng = re.findall(comp_method,strng_text)\n",
    "print(find_strng)\n",
    "# \\b\\d+\\.\\d{1,2}\\b'"
   ]
  },
  {
   "cell_type": "markdown",
   "id": "f82e837a",
   "metadata": {},
   "source": [
    "# Question 21"
   ]
  },
  {
   "cell_type": "code",
   "execution_count": 432,
   "id": "4669efae",
   "metadata": {},
   "outputs": [
    {
     "name": "stdout",
     "output_type": "stream",
     "text": [
      "2 3\n",
      "3 4\n",
      "4 7\n",
      "5 10\n",
      "7 13\n",
      "8 14\n",
      "1 17\n"
     ]
    }
   ],
   "source": [
    "text = 'abc23,!4yz5cd78ao1'\n",
    "    \n",
    "sepr_strng = (r'^\\b\\d+.*$\\b')\n",
    "for word in text:\n",
    "    \n",
    "    match = re.findall(sepr_strng,word)\n",
    "    if len(match) >0:\n",
    "        index_value = text.index(match[0])\n",
    "        print(match[0],index_value)                        "
   ]
  },
  {
   "cell_type": "markdown",
   "id": "a10aed8b",
   "metadata": {},
   "source": [
    "# Question 22"
   ]
  },
  {
   "cell_type": "code",
   "execution_count": 433,
   "id": "2ec0261a",
   "metadata": {},
   "outputs": [
    {
     "name": "stdout",
     "output_type": "stream",
     "text": [
      "950\n"
     ]
    }
   ],
   "source": [
    "strg_text = 'My marks in each semester are: 947, 896, 926, 524, 734, 950, 642'\n",
    "pattern_strg = r'\\d+'\n",
    "\n",
    "values = re.findall(pattern_strg, strg_text)\n",
    "max_number = max(values)\n",
    "print(max_number)"
   ]
  },
  {
   "cell_type": "markdown",
   "id": "c5afa63e",
   "metadata": {},
   "source": [
    "# Question 23"
   ]
  },
  {
   "cell_type": "code",
   "execution_count": 434,
   "id": "d5e54a9f",
   "metadata": {},
   "outputs": [
    {
     "name": "stdout",
     "output_type": "stream",
     "text": [
      "Regular Expression Is An Important Topic In Python\n"
     ]
    }
   ],
   "source": [
    "text= 'RegularExpressionIsAnImportantTopicInPython'\n",
    "pattern_strg = r'(?!^)(?=[A-Z])'\n",
    "\n",
    "match = re.sub(pattern_strg,' ',text)\n",
    "print(match)"
   ]
  },
  {
   "cell_type": "markdown",
   "id": "e4b44f0c",
   "metadata": {},
   "source": [
    "# Question 24"
   ]
  },
  {
   "cell_type": "code",
   "execution_count": 435,
   "id": "d1942b13",
   "metadata": {},
   "outputs": [
    {
     "name": "stdout",
     "output_type": "stream",
     "text": [
      "['Regular', 'An', 'Important', 'Topic', 'In', 'Python']\n"
     ]
    }
   ],
   "source": [
    "text_strg = 'Regular expression is An Important Topic In Python'\n",
    "patter_strng = r'\\b[A-Z][a-z]+\\b'\n",
    "\n",
    "find_strng = re.findall(patter_strng,text_strg)\n",
    "print(find_strng)"
   ]
  },
  {
   "cell_type": "markdown",
   "id": "d1610d5d",
   "metadata": {},
   "source": [
    "# Question 25"
   ]
  },
  {
   "cell_type": "code",
   "execution_count": 436,
   "id": "db3c0344",
   "metadata": {},
   "outputs": [
    {
     "name": "stdout",
     "output_type": "stream",
     "text": [
      "Hello hello world\n"
     ]
    }
   ],
   "source": [
    "text_strng = \"Hello hello world world\"\n",
    "pattern = r'\\b(\\w+)\\b(?:\\W\\1\\b)'\n",
    "\n",
    "find_strng = re.sub(pattern,r'\\1', text_strng)\n",
    "print(find_strng)\n",
    "    "
   ]
  },
  {
   "cell_type": "markdown",
   "id": "230bb686",
   "metadata": {},
   "source": [
    "# Question 26"
   ]
  },
  {
   "cell_type": "code",
   "execution_count": 437,
   "id": "8cc35978",
   "metadata": {},
   "outputs": [
    {
     "name": "stdout",
     "output_type": "stream",
     "text": [
      "None\n"
     ]
    }
   ],
   "source": [
    "strng_text = \"This is a sample text!\"\n",
    "pattrn_strng = r'.*[A-Za-z0-9]$'\n",
    "find_strng = re.match(pattrn_strng,strng_text)\n",
    "print(find_strng)"
   ]
  },
  {
   "cell_type": "markdown",
   "id": "03c52dfd",
   "metadata": {},
   "source": [
    "# Question 27"
   ]
  },
  {
   "cell_type": "code",
   "execution_count": 438,
   "id": "06ba4999",
   "metadata": {},
   "outputs": [
    {
     "name": "stdout",
     "output_type": "stream",
     "text": [
      "['#Doltiwal', '#xyzabc', '#Demonetization']\n"
     ]
    }
   ],
   "source": [
    "text_strng ='RT @kapil_kausik: #Doltiwal I mean #xyzabc is \"hurt\" by #Demonetization as the same has rendered USELESS <ed><U+00A0><U+00BD><ed><U+00B1><U+0089> \"acquired funds\" No wo'\n",
    "patter_strng = r'#\\w+'\n",
    "\n",
    "find_strng = re.findall(patter_strng, text_strng)\n",
    "print(find_strng)"
   ]
  },
  {
   "cell_type": "markdown",
   "id": "453e2593",
   "metadata": {},
   "source": [
    "# Question 28"
   ]
  },
  {
   "cell_type": "code",
   "execution_count": 439,
   "id": "ffb87304",
   "metadata": {},
   "outputs": [
    {
     "name": "stdout",
     "output_type": "stream",
     "text": [
      "@Jags123456 Bharat band on 28??<ed><ed>Those who  are protesting #demonetization  are all different party leaders\n"
     ]
    }
   ],
   "source": [
    "text_strng = '@Jags123456 Bharat band on 28??<ed><U+00A0><U+00BD><ed><U+00B8><U+0082>Those who  are protesting #demonetization  are all different party leaders'\n",
    "pattern_strng = r'<U\\+\\w+>'\n",
    "\n",
    "find_strng = re.sub( pattern_strng,'',text_strng)\n",
    "print(find_strng)"
   ]
  },
  {
   "cell_type": "markdown",
   "id": "90419da9",
   "metadata": {},
   "source": [
    "# Question 29"
   ]
  },
  {
   "cell_type": "code",
   "execution_count": 440,
   "id": "03de6f17",
   "metadata": {},
   "outputs": [
    {
     "name": "stdout",
     "output_type": "stream",
     "text": [
      "['12-09-1992', '15-12-1999']\n"
     ]
    }
   ],
   "source": [
    "# THIS ONE IS INCLUDE DATES - MONTHS AND YEAR \n",
    "with open(\"C:\\\\Users\\\\hp\\\\Desktop\\\\InternshipProject\\\\question 29.txt\",'r') as file:\n",
    "    strng = file.read()\n",
    "    pattern_strng = r'\\d+-\\d+-\\d+'\n",
    "    \n",
    "    find_strng = re.findall(pattern_strng,strng)\n",
    "    print(find_strng)"
   ]
  },
  {
   "cell_type": "code",
   "execution_count": 441,
   "id": "5cd91fc9",
   "metadata": {},
   "outputs": [
    {
     "name": "stdout",
     "output_type": "stream",
     "text": [
      "[' 12', ' 15']\n"
     ]
    }
   ],
   "source": [
    "# ONLY DATES\n",
    "with open(\"C:\\\\Users\\\\hp\\\\Desktop\\\\InternshipProject\\\\question 29.txt\",'r') as file:\n",
    "    strng = file.read()\n",
    "    pattern_strng = r'(\\s+\\d+)'\n",
    "    \n",
    "    find_strng = re.findall(pattern_strng,strng)\n",
    "    print(find_strng)"
   ]
  },
  {
   "cell_type": "markdown",
   "id": "b8f42d68",
   "metadata": {},
   "source": [
    "# Question 30"
   ]
  },
  {
   "cell_type": "code",
   "execution_count": 442,
   "id": "443b01ed",
   "metadata": {},
   "outputs": [
    {
     "name": "stdout",
     "output_type": "stream",
     "text": [
      "following example creates ArrayList a capacity elements. 4 elements added ArrayList ArrayList trimmed accordingly.\n"
     ]
    }
   ],
   "source": [
    "strng_text = 'The following example creates an ArrayList with a capacity of 50 elements. 4 elements are then added to the ArrayList and the ArrayList is trimmed accordingly.'\n",
    "pattern_strng = r'(\\b\\w{2,4}\\b)\\s+'\n",
    "\n",
    "compl_method = re.compile(pattern_strng)\n",
    "strng_sub = re.sub(compl_method,'',strng_text)\n",
    "print(strng_sub)"
   ]
  }
 ],
 "metadata": {
  "kernelspec": {
   "display_name": "Python 3 (ipykernel)",
   "language": "python",
   "name": "python3"
  },
  "language_info": {
   "codemirror_mode": {
    "name": "ipython",
    "version": 3
   },
   "file_extension": ".py",
   "mimetype": "text/x-python",
   "name": "python",
   "nbconvert_exporter": "python",
   "pygments_lexer": "ipython3",
   "version": "3.11.5"
  }
 },
 "nbformat": 4,
 "nbformat_minor": 5
}
